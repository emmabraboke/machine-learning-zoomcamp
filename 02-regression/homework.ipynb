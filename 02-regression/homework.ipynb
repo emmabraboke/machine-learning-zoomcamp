{
 "cells": [
  {
   "cell_type": "code",
   "execution_count": 1,
   "id": "63fb8def",
   "metadata": {},
   "outputs": [],
   "source": [
    "import pandas as pd\n",
    "import numpy as np\n",
    "\n",
    "import seaborn as sns\n",
    "from matplotlib import pyplot as plt\n",
    "%matplotlib inline"
   ]
  },
  {
   "cell_type": "code",
   "execution_count": 2,
   "id": "715f2f01",
   "metadata": {},
   "outputs": [
    {
     "data": {
      "text/html": [
       "<div>\n",
       "<style scoped>\n",
       "    .dataframe tbody tr th:only-of-type {\n",
       "        vertical-align: middle;\n",
       "    }\n",
       "\n",
       "    .dataframe tbody tr th {\n",
       "        vertical-align: top;\n",
       "    }\n",
       "\n",
       "    .dataframe thead th {\n",
       "        text-align: right;\n",
       "    }\n",
       "</style>\n",
       "<table border=\"1\" class=\"dataframe\">\n",
       "  <thead>\n",
       "    <tr style=\"text-align: right;\">\n",
       "      <th></th>\n",
       "      <th>engine_displacement</th>\n",
       "      <th>num_cylinders</th>\n",
       "      <th>horsepower</th>\n",
       "      <th>vehicle_weight</th>\n",
       "      <th>acceleration</th>\n",
       "      <th>model_year</th>\n",
       "      <th>origin</th>\n",
       "      <th>fuel_type</th>\n",
       "      <th>drivetrain</th>\n",
       "      <th>num_doors</th>\n",
       "      <th>fuel_efficiency_mpg</th>\n",
       "    </tr>\n",
       "  </thead>\n",
       "  <tbody>\n",
       "    <tr>\n",
       "      <th>0</th>\n",
       "      <td>170</td>\n",
       "      <td>3.0</td>\n",
       "      <td>159.0</td>\n",
       "      <td>3413.433759</td>\n",
       "      <td>17.7</td>\n",
       "      <td>2003</td>\n",
       "      <td>Europe</td>\n",
       "      <td>Gasoline</td>\n",
       "      <td>All-wheel drive</td>\n",
       "      <td>0.0</td>\n",
       "      <td>13.231729</td>\n",
       "    </tr>\n",
       "    <tr>\n",
       "      <th>1</th>\n",
       "      <td>130</td>\n",
       "      <td>5.0</td>\n",
       "      <td>97.0</td>\n",
       "      <td>3149.664934</td>\n",
       "      <td>17.8</td>\n",
       "      <td>2007</td>\n",
       "      <td>USA</td>\n",
       "      <td>Gasoline</td>\n",
       "      <td>Front-wheel drive</td>\n",
       "      <td>0.0</td>\n",
       "      <td>13.688217</td>\n",
       "    </tr>\n",
       "    <tr>\n",
       "      <th>2</th>\n",
       "      <td>170</td>\n",
       "      <td>NaN</td>\n",
       "      <td>78.0</td>\n",
       "      <td>3079.038997</td>\n",
       "      <td>15.1</td>\n",
       "      <td>2018</td>\n",
       "      <td>Europe</td>\n",
       "      <td>Gasoline</td>\n",
       "      <td>Front-wheel drive</td>\n",
       "      <td>0.0</td>\n",
       "      <td>14.246341</td>\n",
       "    </tr>\n",
       "    <tr>\n",
       "      <th>3</th>\n",
       "      <td>220</td>\n",
       "      <td>4.0</td>\n",
       "      <td>NaN</td>\n",
       "      <td>2542.392402</td>\n",
       "      <td>20.2</td>\n",
       "      <td>2009</td>\n",
       "      <td>USA</td>\n",
       "      <td>Diesel</td>\n",
       "      <td>All-wheel drive</td>\n",
       "      <td>2.0</td>\n",
       "      <td>16.912736</td>\n",
       "    </tr>\n",
       "    <tr>\n",
       "      <th>4</th>\n",
       "      <td>210</td>\n",
       "      <td>1.0</td>\n",
       "      <td>140.0</td>\n",
       "      <td>3460.870990</td>\n",
       "      <td>14.4</td>\n",
       "      <td>2009</td>\n",
       "      <td>Europe</td>\n",
       "      <td>Gasoline</td>\n",
       "      <td>All-wheel drive</td>\n",
       "      <td>2.0</td>\n",
       "      <td>12.488369</td>\n",
       "    </tr>\n",
       "  </tbody>\n",
       "</table>\n",
       "</div>"
      ],
      "text/plain": [
       "   engine_displacement  num_cylinders  horsepower  vehicle_weight  \\\n",
       "0                  170            3.0       159.0     3413.433759   \n",
       "1                  130            5.0        97.0     3149.664934   \n",
       "2                  170            NaN        78.0     3079.038997   \n",
       "3                  220            4.0         NaN     2542.392402   \n",
       "4                  210            1.0       140.0     3460.870990   \n",
       "\n",
       "   acceleration  model_year  origin fuel_type         drivetrain  num_doors  \\\n",
       "0          17.7        2003  Europe  Gasoline    All-wheel drive        0.0   \n",
       "1          17.8        2007     USA  Gasoline  Front-wheel drive        0.0   \n",
       "2          15.1        2018  Europe  Gasoline  Front-wheel drive        0.0   \n",
       "3          20.2        2009     USA    Diesel    All-wheel drive        2.0   \n",
       "4          14.4        2009  Europe  Gasoline    All-wheel drive        2.0   \n",
       "\n",
       "   fuel_efficiency_mpg  \n",
       "0            13.231729  \n",
       "1            13.688217  \n",
       "2            14.246341  \n",
       "3            16.912736  \n",
       "4            12.488369  "
      ]
     },
     "execution_count": 2,
     "metadata": {},
     "output_type": "execute_result"
    }
   ],
   "source": [
    "df = pd.read_csv(\"https://raw.githubusercontent.com/alexeygrigorev/datasets/master/car_fuel_efficiency.csv\")\n",
    "df.head()"
   ]
  },
  {
   "cell_type": "markdown",
   "id": "63b17575",
   "metadata": {},
   "source": [
    "## Exploratory Data Analysis\n",
    "Look at the fuel_efficiency_mpg variable. Does it have a long tail?"
   ]
  },
  {
   "cell_type": "code",
   "execution_count": 3,
   "id": "a45ab05a",
   "metadata": {},
   "outputs": [
    {
     "data": {
      "image/png": "[encoded data removed]",
      "text/plain": [
       "<Figure size 600x400 with 1 Axes>"
      ]
     },
     "metadata": {},
     "output_type": "display_data"
    }
   ],
   "source": [
    "plt.figure(figsize=(6, 4))\n",
    "\n",
    "sns.histplot(df.fuel_efficiency_mpg, bins=40, color='black', alpha=1)\n",
    "plt.ylabel('Frequency')\n",
    "plt.xlabel('Fuel Efficiency (MPG)')\n",
    "plt.title('Distribution of Fuel Efficiency')\n",
    "\n",
    "plt.show()"
   ]
  },
  {
   "cell_type": "code",
   "execution_count": 4,
   "id": "cdf549be",
   "metadata": {},
   "outputs": [
    {
     "name": "stdout",
     "output_type": "stream",
     "text": [
      "Statistical Summary of fuel_efficiency_mpg:\n",
      "count    9704.000000\n",
      "mean       14.985243\n",
      "std         2.556468\n",
      "min         6.200971\n",
      "25%        13.267459\n",
      "50%        15.006037\n",
      "75%        16.707965\n",
      "max        25.967222\n",
      "Name: fuel_efficiency_mpg, dtype: float64\n",
      "\n",
      "Skewness: -0.012\n",
      "Kurtosis: 0.023\n",
      "\n",
      "Outliers (beyond 1.5*IQR): 83 values\n",
      "Percentage of outliers: 0.86%\n",
      "\n",
      "Range: 6.201 to 25.967\n",
      "95th percentile: 19.150\n",
      "99th percentile: 20.882\n"
     ]
    }
   ],
   "source": [
    "print(\"Statistical Summary of fuel_efficiency_mpg:\")\n",
    "print(df['fuel_efficiency_mpg'].describe())\n",
    "print(f\"\\nSkewness: {df['fuel_efficiency_mpg'].skew():.3f}\")\n",
    "print(f\"Kurtosis: {df['fuel_efficiency_mpg'].kurtosis():.3f}\")\n",
    "\n",
    "Q1 = df['fuel_efficiency_mpg'].quantile(0.25)\n",
    "Q3 = df['fuel_efficiency_mpg'].quantile(0.75)\n",
    "IQR = Q3 - Q1\n",
    "lower_bound = Q1 - 1.5 * IQR\n",
    "upper_bound = Q3 + 1.5 * IQR\n",
    "\n",
    "outliers = df[(df['fuel_efficiency_mpg'] < lower_bound) | (df['fuel_efficiency_mpg'] > upper_bound)]\n",
    "print(f\"\\nOutliers (beyond 1.5*IQR): {len(outliers)} values\")\n",
    "print(f\"Percentage of outliers: {len(outliers)/len(df)*100:.2f}%\")\n",
    "\n",
    "print(f\"\\nRange: {df['fuel_efficiency_mpg'].min():.3f} to {df['fuel_efficiency_mpg'].max():.3f}\")\n",
    "print(f\"95th percentile: {df['fuel_efficiency_mpg'].quantile(0.95):.3f}\")\n",
    "print(f\"99th percentile: {df['fuel_efficiency_mpg'].quantile(0.99):.3f}\")"
   ]
  },
  {
   "cell_type": "code",
   "execution_count": 5,
   "id": "681c1a17",
   "metadata": {},
   "outputs": [
    {
     "data": {
      "text/plain": [
       "engine_displacement      0\n",
       "num_cylinders          482\n",
       "horsepower             708\n",
       "vehicle_weight           0\n",
       "acceleration           930\n",
       "model_year               0\n",
       "origin                   0\n",
       "fuel_type                0\n",
       "drivetrain               0\n",
       "num_doors              502\n",
       "fuel_efficiency_mpg      0\n",
       "dtype: int64"
      ]
     },
     "execution_count": 5,
     "metadata": {},
     "output_type": "execute_result"
    }
   ],
   "source": [
    "df.isna().sum()"
   ]
  },
  {
   "cell_type": "markdown",
   "id": "b26ea3dc",
   "metadata": {},
   "source": [
    "## Question 2\n",
    "What's the median (50% percentile) for variable 'horsepower'?"
   ]
  },
  {
   "cell_type": "code",
   "execution_count": 6,
   "id": "e97a9714",
   "metadata": {},
   "outputs": [
    {
     "data": {
      "text/plain": [
       "149.0"
      ]
     },
     "execution_count": 6,
     "metadata": {},
     "output_type": "execute_result"
    }
   ],
   "source": [
    "df[\"horsepower\"].median()"
   ]
  },
  {
   "cell_type": "markdown",
   "id": "859b0440",
   "metadata": {},
   "source": [
    "## Question 3\n",
    "- We need to deal with missing values for the column from Q1.\n",
    "- We have two options: fill it with 0 or with the mean of this variable.\n",
    "- Try both options. For each, train a linear regression model without - regularization using the code from the lessons.\n",
    "- For computing the mean, use the training only!\n",
    "- Use the validation dataset to evaluate the models and compare the RMSE of each option.\n",
    "- Round the RMSE scores to 2 decimal digits using round(score, 2)\n",
    "- Which option gives better RMSE?\n",
    "\n",
    "Options:\n",
    "\n",
    "- With 0\n",
    "- With mean\n",
    "- Both are equally good\n"
   ]
  },
  {
   "cell_type": "code",
   "execution_count": 7,
   "id": "983eb2b1",
   "metadata": {},
   "outputs": [],
   "source": [
    "\n",
    "# Set random seed for reproducibility\n",
    "np.random.seed(42)\n",
    "\n",
    "# Shuffle the dataset\n",
    "n = len(df)\n",
    "idx = np.arange(n)\n",
    "np.random.shuffle(idx)\n",
    "df_shuffled = df.iloc[idx].reset_index(drop=True)\n",
    "\n",
    "# Split into train, validation, test\n",
    "n_val = int(0.2 * n)\n",
    "n_test = int(0.2 * n)\n",
    "n_train = int(0.6 * n)\n",
    "\n",
    "\n",
    "df_train = df_shuffled.iloc[:n_train].copy()\n",
    "df_val = df_shuffled.iloc[n_train:n_train+n_val].copy()\n",
    "df_test = df_shuffled.iloc[n_train+n_val:].copy()\n",
    "\n",
    "# Define target variable (fuel efficiency)\n",
    "y_train = df_train['fuel_efficiency_mpg'].values\n",
    "y_val = df_val['fuel_efficiency_mpg'].values\n",
    "y_test = df_test['fuel_efficiency_mpg'].values"
   ]
  },
  {
   "cell_type": "code",
   "execution_count": 8,
   "id": "c76733b6",
   "metadata": {},
   "outputs": [],
   "source": [
    "# Prepare feature matrices (use only specified columns)\n",
    "numerical_cols = ['engine_displacement', 'horsepower', 'vehicle_weight', 'model_year']\n",
    "\n",
    "# Create feature matrices\n",
    "X_train = df_train[numerical_cols].copy()\n",
    "X_val = df_val[numerical_cols].copy() \n",
    "X_test = df_test[numerical_cols].copy()"
   ]
  },
  {
   "cell_type": "code",
   "execution_count": 9,
   "id": "ecd622b2",
   "metadata": {},
   "outputs": [],
   "source": [
    "def train_linear_regression(X, y):\n",
    "    ones = np.ones(X.shape[0])\n",
    "    X = np.column_stack([ones, X])\n",
    "    \n",
    "    XTX = X.T.dot(X)\n",
    "    XTX_inv = np.linalg.inv(XTX)\n",
    "    w = XTX_inv.dot(X.T).dot(y)\n",
    "    \n",
    "    return w[0], w[1:]\n",
    "\n",
    "def train_linear_regression_reg(X, y, r=0.0):\n",
    "    ones = np.ones(X.shape[0])\n",
    "    X = np.column_stack([ones, X])\n",
    "    \n",
    "    XTX = X.T.dot(X)\n",
    "    reg = r * np.eye(XTX.shape[0])\n",
    "    XTX = XTX + reg\n",
    "    \n",
    "    XTX_inv = np.linalg.inv(XTX)\n",
    "    w = XTX_inv.dot(X.T).dot(y)\n",
    "    \n",
    "    return w[0], w[1:]\n",
    "\n",
    "def rmse(y, y_pred):\n",
    "    error = y_pred - y\n",
    "    mse = (error ** 2).mean()\n",
    "    return np.sqrt(mse)"
   ]
  },
  {
   "cell_type": "code",
   "execution_count": 10,
   "id": "a5accfb7",
   "metadata": {},
   "outputs": [
    {
     "name": "stdout",
     "output_type": "stream",
     "text": [
      "Fill with 0: RMSE = 0.52\n",
      "Fill with mean: RMSE = 0.46\n",
      "Better option: Fill with mean\n"
     ]
    }
   ],
   "source": [
    "# Option 1: Fill with 0\n",
    "X_train_fill_0 = X_train.fillna(0)\n",
    "X_val_fill_0 = X_val.fillna(0)\n",
    "\n",
    "# Option 2: Fill with mean\n",
    "fill_values = X_train.mean()\n",
    "X_train_fill_mean = X_train.fillna(fill_values)\n",
    "X_val_fill_mean = X_val.fillna(fill_values)\n",
    "\n",
    "# Train models and evaluate\n",
    "def evaluate_model(X_train, X_val, y_train, y_val, name):\n",
    "    w_0, w = train_linear_regression(X_train, y_train)\n",
    "    \n",
    "    y_pred = w_0 + X_val.dot(w)\n",
    "    score = rmse(y_val, y_pred)\n",
    "    \n",
    "    print(f\"{name}: RMSE = {round(score, 2)}\")\n",
    "    return round(score, 2)\n",
    "\n",
    "score_fill_0 = evaluate_model(X_train_fill_0, X_val_fill_0, y_train, y_val, \"Fill with 0\")\n",
    "score_fill_mean = evaluate_model(X_train_fill_mean, X_val_fill_mean, y_train, y_val, \"Fill with mean\")\n",
    "\n",
    "if score_fill_0 < score_fill_mean:\n",
    "    print(\"Better option: Fill with 0\")\n",
    "elif score_fill_mean < score_fill_0:\n",
    "    print(\"Better option: Fill with mean\")  \n",
    "else:\n",
    "    print(\"Both options are equally good\")"
   ]
  },
  {
   "cell_type": "markdown",
   "id": "39f49f0c",
   "metadata": {},
   "source": [
    "## Question 4\n",
    "- Now let's train a regularized linear regression.\n",
    "- For this question, fill the NAs with 0.\n",
    "- Try different values of r from this list: [0, 0.01, 0.1, 1, 5, 10, - 100].\n",
    "- Use RMSE to evaluate the model on the validation dataset.\n",
    "- Round the RMSE scores to 2 decimal digits.\n",
    "- Which r gives the best RMSE?\n",
    "\n",
    "If multiple options give the same best RMSE, select the smallest r.\n",
    "\n",
    "Options:\n",
    "\n",
    "- 0\n",
    "- 0.01\n",
    "- 1\n",
    "- 10\n",
    "- 100\n"
   ]
  },
  {
   "cell_type": "code",
   "execution_count": 11,
   "id": "b8b83e22",
   "metadata": {},
   "outputs": [
    {
     "name": "stdout",
     "output_type": "stream",
     "text": [
      "r = 0: RMSE = 0.52\n",
      "r = 0.01: RMSE = 0.52\n",
      "r = 0.1: RMSE = 0.52\n",
      "r = 1: RMSE = 0.52\n",
      "r = 5: RMSE = 0.52\n",
      "r = 10: RMSE = 0.52\n",
      "r = 100: RMSE = 0.52\n",
      "\n",
      "Best r: 0 (RMSE = 0.52)\n"
     ]
    }
   ],
   "source": [
    "# Fill NAs with 0\n",
    "X_train_q4 = X_train.fillna(0)\n",
    "X_val_q4 = X_val.fillna(0)\n",
    "\n",
    "# Test different regularization values\n",
    "r_values = [0, 0.01, 0.1, 1, 5, 10, 100]\n",
    "results_q4 = []\n",
    "\n",
    "for r in r_values:\n",
    "    w_0, w = train_linear_regression_reg(X_train_q4, y_train, r=r)\n",
    "    \n",
    "    # Make predictions\n",
    "    y_pred = w_0 + X_val_q4.dot(w)\n",
    "    score = rmse(y_val, y_pred)\n",
    "    score_rounded = round(score, 2)\n",
    "    results_q4.append((r, score_rounded))\n",
    "    \n",
    "    print(f\"r = {r}: RMSE = {score_rounded}\")\n",
    "\n",
    "best_score = min(results_q4, key=lambda x: x[1])[1]\n",
    "best_r_values = [r for r, score in results_q4 if score == best_score]\n",
    "best_r = min(best_r_values)\n",
    "\n",
    "print(f\"\\nBest r: {best_r} (RMSE = {best_score})\")"
   ]
  },
  {
   "cell_type": "markdown",
   "id": "b8095a1d",
   "metadata": {},
   "source": [
    "## Question 5\n",
    "- We used seed 42 for splitting the data. Let's find out how selecting the seed influences our score.\n",
    "- Try different seed values: [0, 1, 2, 3, 4, 5, 6, 7, 8, 9].\n",
    "- For each seed, do the train/validation/test split with 60%/20%/20% distribution.\n",
    "- Fill the missing values with 0 and train a model without regularization.\n",
    "- For each seed, evaluate the model on the validation dataset and - collect the RMSE scores.\n",
    "- What's the standard deviation of all the scores? To compute the standard deviation, use np.std.\n",
    "- Round the result to 3 decimal digits (round(std, 3))\n",
    "\n",
    "What's the value of std?\n",
    "\n",
    "- 0.001\n",
    "- 0.006\n",
    "- 0.060\n",
    "- 0.600"
   ]
  },
  {
   "cell_type": "code",
   "execution_count": 12,
   "id": "684179c7",
   "metadata": {},
   "outputs": [
    {
     "name": "stdout",
     "output_type": "stream",
     "text": [
      "Seed 0: RMSE = 0.52\n",
      "Seed 1: RMSE = 0.52\n",
      "Seed 2: RMSE = 0.52\n",
      "Seed 3: RMSE = 0.52\n",
      "Seed 4: RMSE = 0.51\n",
      "Seed 5: RMSE = 0.53\n",
      "Seed 6: RMSE = 0.53\n",
      "Seed 7: RMSE = 0.51\n",
      "Seed 8: RMSE = 0.51\n",
      "Seed 9: RMSE = 0.51\n",
      "\n",
      "Standard deviation: 0.007\n",
      "All scores: [np.float64(0.521), np.float64(0.522), np.float64(0.523), np.float64(0.516), np.float64(0.511), np.float64(0.529), np.float64(0.532), np.float64(0.51), np.float64(0.515), np.float64(0.513)]\n"
     ]
    }
   ],
   "source": [
    "seeds = [0, 1, 2, 3, 4, 5, 6, 7, 8, 9]\n",
    "seed_scores = []\n",
    "\n",
    "for seed in seeds:\n",
    "    # Set seed and shuffle\n",
    "    np.random.seed(seed)\n",
    "    n = len(df)\n",
    "    idx = np.arange(n)\n",
    "    np.random.shuffle(idx)\n",
    "    df_shuffled_seed = df.iloc[idx].reset_index(drop=True)\n",
    "    \n",
    "    n_val = int(0.2 * n)\n",
    "    n_test = int(0.2 * n)\n",
    "    n_train = int(0.6 * n)\n",
    "    \n",
    "    df_train_seed = df_shuffled_seed.iloc[:n_train].copy()\n",
    "    df_val_seed = df_shuffled_seed.iloc[n_train:n_train+n_val].copy()\n",
    "    \n",
    "  \n",
    "    X_train_seed = df_train_seed[numerical_cols].fillna(0)\n",
    "    X_val_seed = df_val_seed[numerical_cols].fillna(0)\n",
    "    y_train_seed = df_train_seed['fuel_efficiency_mpg'].values\n",
    "    y_val_seed = df_val_seed['fuel_efficiency_mpg'].values\n",
    "    \n",
    "    w_0, w = train_linear_regression(X_train_seed, y_train_seed)\n",
    "    y_pred = w_0 + X_val_seed.dot(w)\n",
    "    score = rmse(y_val_seed, y_pred)\n",
    "    \n",
    "    seed_scores.append(score)\n",
    "    print(f\"Seed {seed}: RMSE = {round(score, 2)}\")\n",
    "\n",
    "std_scores = np.std(seed_scores)\n",
    "print(f\"\\nStandard deviation: {round(std_scores, 3)}\")\n",
    "print(f\"All scores: {[round(s, 3) for s in seed_scores]}\")"
   ]
  },
  {
   "cell_type": "markdown",
   "id": "c9aae02e",
   "metadata": {},
   "source": [
    "## Question 6\n",
    "- Split the dataset like previously, use seed 9.\n",
    "- Combine train and validation datasets.\n",
    "- Fill the missing values with 0 and train a model with r=0.001.\n",
    "- What's the RMSE on the test dataset?\n",
    "\n",
    "Options:\n",
    "\n",
    "- 0.15\n",
    "- 0.515\n",
    "- 5.15\n",
    "- 51.5"
   ]
  },
  {
   "cell_type": "code",
   "execution_count": 13,
   "id": "c7f9ec47",
   "metadata": {},
   "outputs": [
    {
     "name": "stdout",
     "output_type": "stream",
     "text": [
      "Test RMSE with r=0.001: 0.516\n",
      "Combined train+val size: 7764\n",
      "Test size: 1940\n"
     ]
    }
   ],
   "source": [
    "\n",
    "np.random.seed(9)\n",
    "\n",
    "# Shuffle the dataset with seed 9\n",
    "n = len(df)\n",
    "idx = np.arange(n)\n",
    "np.random.shuffle(idx)\n",
    "df_shuffled_final = df.iloc[idx].reset_index(drop=True)\n",
    "\n",
    "n_val = int(0.2 * n)\n",
    "n_test = int(0.2 * n)\n",
    "n_train = n - (n_val + n_test)\n",
    "\n",
    "df_train_final = df_shuffled_final.iloc[:n_train].copy()\n",
    "df_val_final = df_shuffled_final.iloc[n_train:n_train+n_val].copy()\n",
    "df_test_final = df_shuffled_final.iloc[n_train+n_val:].copy()\n",
    "\n",
    "df_train_val_combined = pd.concat([df_train_final, df_val_final], ignore_index=True)\n",
    "\n",
    "X_train_val_combined = df_train_val_combined[numerical_cols].fillna(0)\n",
    "y_train_val_combined = df_train_val_combined['fuel_efficiency_mpg'].values\n",
    "\n",
    "\n",
    "X_test_final = df_test_final[numerical_cols].fillna(0)\n",
    "y_test_final = df_test_final['fuel_efficiency_mpg'].values\n",
    "\n",
    "\n",
    "w_0, w = train_linear_regression_reg(X_train_val_combined, y_train_val_combined, r=0.001)\n",
    "\n",
    "y_pred_test = w_0 + X_test_final.dot(w)\n",
    "test_rmse = rmse(y_test_final, y_pred_test)\n",
    "\n",
    "print(f\"Test RMSE with r=0.001: {round(test_rmse, 3)}\")\n",
    "print(f\"Combined train+val size: {len(X_train_val_combined)}\")\n",
    "print(f\"Test size: {len(X_test_final)}\")"
   ]
  }
 ],
 "metadata": {
  "kernelspec": {
   "display_name": "ml-zoomcamp",
   "language": "python",
   "name": "python3"
  },
  "language_info": {
   "codemirror_mode": {
    "name": "ipython",
    "version": 3
   },
   "file_extension": ".py",
   "mimetype": "text/x-python",
   "name": "python",
   "nbconvert_exporter": "python",
   "pygments_lexer": "ipython3",
   "version": "3.11.13"
  }
 },
 "nbformat": 4,
 "nbformat_minor": 5
}
